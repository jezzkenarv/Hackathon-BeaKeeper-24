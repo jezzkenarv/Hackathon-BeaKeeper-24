{
 "cells": [
  {
   "cell_type": "markdown",
   "metadata": {},
   "source": [
    "## Decentralized Block Proposer Archival System with Chainlink Automation"
   ]
  },
  {
   "cell_type": "markdown",
   "metadata": {},
   "source": [
    "### Create a decentralized system that archives and provides access to block proposers beyond the 8191 block limit imposed by EIP-4788, using Chainlink Automation for regular updates."
   ]
  },
  {
   "cell_type": "markdown",
   "metadata": {},
   "source": [
    "### Merkle Proof "
   ]
  },
  {
   "cell_type": "markdown",
   "metadata": {},
   "source": [
    "Sanity Check process:\n",
    "\n",
    "- proposer_index -> bytes32 -> Slot -> bytes32  -> hash -> slotandproposerindexnode \n",
    "- Parent_root -> bytes32 -> state_root -> bytes32 -> hash -> proof(0) / parentandstatenode\n",
    "- hash(slotandproposerindexnode + proof(0) / parentandstatenode) -> left node\n",
    "- body_root -> bytes32 -> bytes32(0) -> hash -> bodyandzero \n",
    "- Hash(bytes32(0) + bytes32(0)) -> zeroesparent\n",
    "- Hash(bodyandzero + zeroesparent) -> proof(1) / right node\n",
    "- hash(leftnode + right node) -> root "
   ]
  },
  {
   "cell_type": "code",
   "execution_count": 35,
   "metadata": {},
   "outputs": [
    {
     "data": {
      "text/plain": [
       "True"
      ]
     },
     "execution_count": 35,
     "metadata": {},
     "output_type": "execute_result"
    }
   ],
   "source": [
    "from eth2spec.utils.ssz.ssz_typing import uint256, Bytes32\n",
    "from eth2spec.utils.hash_function import hash\n",
    "from eth2spec.utils.merkle_minimal import merkleize_chunks \n",
    "a = uint256(1).to_bytes(length = 32, byteorder='little')\n",
    "b = uint256(2).to_bytes(length = 32, byteorder='little')\n",
    "c = uint256(3).to_bytes(length = 32, byteorder='little')\n",
    "d = uint256(4).to_bytes(length = 32, byteorder='little')\n",
    "ab = hash(a + b)\n",
    "cd = hash(c + d)\n",
    "abcd = hash(ab + cd)\n",
    "abcd.hex() == 'bfe3c665d2e561f13b30606c580cb703b2041287e212ade110f0bfd8563e21bb'"
   ]
  },
  {
   "cell_type": "markdown",
   "metadata": {},
   "source": [
    "#### Block 1"
   ]
  },
  {
   "cell_type": "markdown",
   "metadata": {},
   "source": [
    "\n",
    "{\"block_root\":\"0xf5377637c999e92ad5a1118023cac6e91a0fd9fd5a4ad2b1a1d3aa865f8bafd4\",\"body_root\":\"0x591213adb2ad0499dadaab30fa590c5bce833935b373536d0c110dea899f5292\",\"parent_root\":\"0x53bfaaf85da750e4e0d181dceaa0016675be001ae1430dd9ceb5e7ed1f4e2255\",\"proposer_index\":\"1613222\",\"state_root\":\"0x4119938f7e4966b151a8cc733fd34063ead0aa2760839b9fe98ac2db4f290250\",\"slot\":\"2066124\"}\n"
   ]
  },
  {
   "cell_type": "markdown",
   "metadata": {},
   "source": [
    "\n",
    "Slot = 2066124\n",
    "proposer_index = 1613222\n",
    "> \n",
    "Proof[0] = hash (parent_root) + (state_root) = hash(0x53bfaaf85da750e4e0d181dceaa0016675be001ae1430dd9ceb5e7ed1f4e2255) + (0x4119938f7e4966b151a8cc733fd34063ead0aa2760839b9fe98ac2db4f290250)\n",
    "> this is where I will do offchain beacon block proof\n",
    "Bodyandzeroes = hash(body_root) + (bytes32(0)) = hash(0x591213adb2ad0499dadaab30fa590c5bce833935b373536d0c110dea899f5292) + (0)\n",
    "Zeroesparent = hash(bytes32(0)) + bytes32(0) = hex\"f5a5fd42d16a20302798ef6ed309979b43003d2320d9f0e8ea9831a92759fb4b\"\n",
    "proof[1] = hash(bodyandzeroes) + (zeroesparent) -> ?"
   ]
  },
  {
   "cell_type": "markdown",
   "metadata": {},
   "source": [
    "block_root_bytes.hex() = f5377637c999e92ad5a1118023cac6e91a0fd9fd5a4ad2b1a1d3aa865f8bafd4\n",
    "\n",
    "root.hex() = f5377637c999e92ad5a1118023cac6e91a0fd9fd5a4ad2b1a1d3aa865f8bafd4"
   ]
  },
  {
   "cell_type": "markdown",
   "metadata": {},
   "source": [
    "##### Initialize the variables"
   ]
  },
  {
   "cell_type": "code",
   "execution_count": 39,
   "metadata": {},
   "outputs": [],
   "source": [
    "block_root = Bytes32(\"0xf5377637c999e92ad5a1118023cac6e91a0fd9fd5a4ad2b1a1d3aa865f8bafd4\")\n",
    "body_root = Bytes32(\"0x591213adb2ad0499dadaab30fa590c5bce833935b373536d0c110dea899f5292\")\n",
    "parent_root = Bytes32(\"0x53bfaaf85da750e4e0d181dceaa0016675be001ae1430dd9ceb5e7ed1f4e2255\")\n",
    "state_root = Bytes32(\"0x4119938f7e4966b151a8cc733fd34063ead0aa2760839b9fe98ac2db4f290250\")\n",
    "proposer_index = uint256(1613222).to_bytes(length = 32, byteorder='little')\n",
    "slot = uint256(2066124).to_bytes(length = 32, byteorder='little')\n",
    "zero = uint256(0).to_bytes(length = 32, byteorder='little')"
   ]
  },
  {
   "cell_type": "markdown",
   "metadata": {},
   "source": [
    "##### Hash Intermediary Nodes"
   ]
  },
  {
   "cell_type": "code",
   "execution_count": 40,
   "metadata": {},
   "outputs": [],
   "source": [
    "slotAndProposerIndexNode = hash(slot + proposer_index)\n",
    "parentAndStateRootNode = hash(parent_root + state_root)\n",
    "bodyAndZeroNode = hash(body_root + zero)\n",
    "# zeroesParentNode = bytes.fromhex(\"f5a5fd42d16a20302798ef6ed309979b43003d2320d9f0e8ea9831a92759fb4b\")\n",
    "# zeroesParentNode = int(hash(bytes(32) + bytes(32)).hex(), 16).to_bytes(length = 32, byteorder='little').hex()\n",
    "zeroesParentNode = hash(zero + zero) \n"
   ]
  },
  {
   "cell_type": "markdown",
   "metadata": {},
   "source": [
    "##### Hash Parent Intermediary Node"
   ]
  },
  {
   "cell_type": "code",
   "execution_count": 41,
   "metadata": {},
   "outputs": [],
   "source": [
    "rightNode = hash(slotAndProposerIndexNode + parentAndStateRootNode)\n",
    "leftNode = hash(bodyAndZeroNode + zeroesParentNode)"
   ]
  },
  {
   "cell_type": "markdown",
   "metadata": {},
   "source": [
    "##### Hash Root Node"
   ]
  },
  {
   "cell_type": "code",
   "execution_count": 42,
   "metadata": {},
   "outputs": [
    {
     "data": {
      "text/plain": [
       "'f5377637c999e92ad5a1118023cac6e91a0fd9fd5a4ad2b1a1d3aa865f8bafd4'"
      ]
     },
     "execution_count": 42,
     "metadata": {},
     "output_type": "execute_result"
    }
   ],
   "source": [
    "root = hash(rightNode + leftNode)\n",
    "root.hex()"
   ]
  },
  {
   "cell_type": "markdown",
   "metadata": {},
   "source": [
    "##### Block Root"
   ]
  },
  {
   "cell_type": "code",
   "execution_count": 43,
   "metadata": {},
   "outputs": [
    {
     "data": {
      "text/plain": [
       "'f5377637c999e92ad5a1118023cac6e91a0fd9fd5a4ad2b1a1d3aa865f8bafd4'"
      ]
     },
     "execution_count": 43,
     "metadata": {},
     "output_type": "execute_result"
    }
   ],
   "source": [
    "block_root.hex()"
   ]
  },
  {
   "cell_type": "markdown",
   "metadata": {},
   "source": [
    "#### Block 2"
   ]
  },
  {
   "cell_type": "markdown",
   "metadata": {},
   "source": [
    "{\"block_root\":\"0xaf812eb1cad879026d97f8a57817f6402c5feada6ead9f6e5ac446a0b38d77ab\",\"body_root\":\"0x4929e5b2a9a42073b86f242e56a74e714fc65cbf25f735a5ea466513bb4fe1bb\",\"parent_root\":\"0xf5377637c999e92ad5a1118023cac6e91a0fd9fd5a4ad2b1a1d3aa865f8bafd4\",\"proposer_index\":\"478840\",\"state_root\":\"0x035019ae6c36735ec468aafa773fc7d35e1940363f1021d90c77ab98c2c87efb\",\"slot\":\"2066125\"}"
   ]
  },
  {
   "cell_type": "code",
   "execution_count": null,
   "metadata": {},
   "outputs": [],
   "source": []
  },
  {
   "cell_type": "markdown",
   "metadata": {},
   "source": [
    "## Python Code (with functions)"
   ]
  },
  {
   "cell_type": "code",
   "execution_count": 44,
   "metadata": {},
   "outputs": [],
   "source": [
    "def initialize_data():\n",
    "    block_root = Bytes32(\"0xf5377637c999e92ad5a1118023cac6e91a0fd9fd5a4ad2b1a1d3aa865f8bafd4\")\n",
    "    body_root = Bytes32(\"0x591213adb2ad0499dadaab30fa590c5bce833935b373536d0c110dea899f5292\")\n",
    "    parent_root = Bytes32(\"0x53bfaaf85da750e4e0d181dceaa0016675be001ae1430dd9ceb5e7ed1f4e2255\")\n",
    "    state_root = Bytes32(\"0x4119938f7e4966b151a8cc733fd34063ead0aa2760839b9fe98ac2db4f290250\")\n",
    "    proposer_index = uint256(1613222).to_bytes(length=32, byteorder='little')\n",
    "    slot = uint256(2066124).to_bytes(length=32, byteorder='little')\n",
    "    zero = uint256(0).to_bytes(length=32, byteorder='little')\n",
    "    return block_root, body_root, parent_root, state_root, proposer_index, slot, zero"
   ]
  },
  {
   "cell_type": "code",
   "execution_count": 45,
   "metadata": {},
   "outputs": [],
   "source": [
    "def calculate_proof_nodes(slot, proposer_index, parent_root, state_root, body_root, zero):\n",
    "    slot_and_proposer_index_node = hash(slot + proposer_index)\n",
    "    parent_and_state_root_node = hash(parent_root + state_root)\n",
    "    body_and_zero_node = hash(body_root + zero)\n",
    "    zeroes_parent_node = hash(zero + zero)\n",
    "    return slot_and_proposer_index_node, parent_and_state_root_node, body_and_zero_node, zeroes_parent_node"
   ]
  },
  {
   "cell_type": "code",
   "execution_count": 46,
   "metadata": {},
   "outputs": [],
   "source": [
    "def calculate_final_root(slot_and_proposer_index_node, parent_and_state_root_node, body_and_zero_node, zeroes_parent_node):\n",
    "    right_node = hash(slot_and_proposer_index_node + parent_and_state_root_node)\n",
    "    left_node = hash(body_and_zero_node + zeroes_parent_node)\n",
    "    final_root = hash(right_node + left_node)\n",
    "    return final_root\n"
   ]
  },
  {
   "cell_type": "code",
   "execution_count": 47,
   "metadata": {},
   "outputs": [],
   "source": [
    "def verify_root(final_root, block_root):\n",
    "    return final_root == block_root"
   ]
  },
  {
   "cell_type": "code",
   "execution_count": 50,
   "metadata": {},
   "outputs": [
    {
     "name": "stdout",
     "output_type": "stream",
     "text": [
      "Calculated root: f5377637c999e92ad5a1118023cac6e91a0fd9fd5a4ad2b1a1d3aa865f8bafd4\n",
      "Expected block root: f5377637c999e92ad5a1118023cac6e91a0fd9fd5a4ad2b1a1d3aa865f8bafd4\n",
      "Root verification result: True\n"
     ]
    }
   ],
   "source": [
    "# def main():\n",
    "block_root, body_root, parent_root, state_root, proposer_index, slot, zero = initialize_data()\n",
    "\n",
    "slot_and_proposer_index_node, parent_and_state_root_node, body_and_zero_node, zeroes_parent_node = calculate_proof_nodes(\n",
    "    slot, proposer_index, parent_root, state_root, body_root, zero\n",
    ")\n",
    "\n",
    "final_root = calculate_final_root(\n",
    "    slot_and_proposer_index_node, parent_and_state_root_node, body_and_zero_node, zeroes_parent_node\n",
    ")\n",
    "\n",
    "is_valid = verify_root(final_root, block_root)\n",
    "\n",
    "print(f\"Calculated root: {final_root.hex()}\")\n",
    "print(f\"Expected block root: {block_root.hex()}\")\n",
    "print(f\"Root verification result: {is_valid}\")\n",
    "\n",
    "# if __name__ == \"__main__\":\n",
    "#     main()"
   ]
  },
  {
   "cell_type": "code",
   "execution_count": null,
   "metadata": {},
   "outputs": [],
   "source": []
  }
 ],
 "metadata": {
  "kernelspec": {
   "display_name": "Python 3",
   "language": "python",
   "name": "python3"
  },
  "language_info": {
   "codemirror_mode": {
    "name": "ipython",
    "version": 3
   },
   "file_extension": ".py",
   "mimetype": "text/x-python",
   "name": "python",
   "nbconvert_exporter": "python",
   "pygments_lexer": "ipython3",
   "version": "3.9.6"
  }
 },
 "nbformat": 4,
 "nbformat_minor": 2
}
